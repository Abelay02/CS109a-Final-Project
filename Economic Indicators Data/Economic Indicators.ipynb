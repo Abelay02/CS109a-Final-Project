{
 "cells": [
  {
   "cell_type": "code",
   "execution_count": null,
   "metadata": {},
   "outputs": [],
   "source": [
    "#### LUKE\n",
    "#Real GDP per capita by state by year\n",
    "rGDP_pc_2015 = pd.read_csv('Real_GDP_pc/2015_rGDP_edit.csv')\n",
    "rGDP_pc_2016 = pd.read_csv('Real_GDP_pc/2016_rGDP_edit.csv')\n",
    "rGDP_pc_2017 = pd.read_csv('Real_GDP_pc/2017_rGDP_edit.csv')\n",
    "#Unemployment delta by state, 2016--2018\n",
    "## US national delta = -1%\n",
    "unemp_delta = pd.read_csv('unemp_delta.csv')\n",
    "rGDP_pc_2015.columns = ['state','2015_GDP']\n",
    "economic_indicators = rGDP_pc_2015.copy()\n",
    "economic_indicators['2016_GDP'] = rGDP_pc_2016['value']\n",
    "economic_indicators['2017_GDP'] = rGDP_pc_2017['value']\n",
    "economic_indicators = economic_indicators.merge(unemp_delta, on = 'state')\n",
    "\n",
    "economic_indicators"
   ]
  }
 ],
 "metadata": {
  "kernelspec": {
   "display_name": "Python [conda env:root] *",
   "language": "python",
   "name": "conda-root-py"
  },
  "language_info": {
   "codemirror_mode": {
    "name": "ipython",
    "version": 3
   },
   "file_extension": ".py",
   "mimetype": "text/x-python",
   "name": "python",
   "nbconvert_exporter": "python",
   "pygments_lexer": "ipython3",
   "version": "3.7.4"
  }
 },
 "nbformat": 4,
 "nbformat_minor": 2
}
