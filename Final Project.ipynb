{
 "cells": [
  {
   "cell_type": "code",
   "execution_count": null,
   "metadata": {},
   "outputs": [],
   "source": [
    "import numpy as np\n",
    "import pandas as pd\n",
    "import matplotlib.pyplot as plt"
   ]
  },
  {
   "cell_type": "code",
   "execution_count": null,
   "metadata": {},
   "outputs": [],
   "source": [
    "# load data \n",
    "\n",
    "# House election Harvard Dataverse https://dataverse.harvard.edu/dataset.xhtml?persistentId=doi:10.7910/DVN/IG0UN2\n",
    "district_results = pd.read_csv('1976-2018-house.csv', header=0,encoding = 'unicode_escape')\n",
    "district_results['candidatevotes'] = district_results['candidatevotes'].str.replace(',', '')\n",
    "district_results['candidatevotes'] = district_results['candidatevotes'].astype(int)\n",
    "\n",
    "# 2016 Election Results https://transition.fec.gov/general/FederalElections2016.shtml\n",
    "pres_gen_results_2016 = pd.read_csv('2016 Pres General Results-Table 1.csv', header=0,encoding = 'unicode_escape')\n",
    "sen_results_2016 = pd.read_csv('2016 US Senate Results by State-Table 1.csv', header=0,encoding = 'unicode_escape')\n",
    "house_results_2016 = pd.read_csv('2016 US House Results by State-Table 1.csv', header=0,encoding = 'unicode_escape')\n",
    "\n",
    "Election_2016 = district_results.loc[district_results['year'] == 2016]\n",
    "\n",
    "sports_results = pd.read_csv('sports_data.csv')\n",
    "\n",
    "\n",
    "\n",
    "\n",
    "# State\n",
    "states = ['AL', 'AK', 'AZ', 'AR', 'CA', 'CO', 'CT', 'DE','DC', 'FL', 'GA', 'HI', 'ID', 'IL', 'IN', 'IA', 'KS', 'KY', 'LA', 'ME', 'MD', 'MA', 'MI', 'MN', 'MS', 'MO', 'MT', 'NE', 'NV', 'NH', 'NJ', 'NM', 'NY', 'NC', 'ND', 'OH', 'OK', 'OR', 'PA', 'RI', 'SC', 'SD', 'TN', 'TX', 'UT', 'VT', 'VA', 'WA', 'WV', 'WI', 'WY']"
   ]
  },
  {
   "cell_type": "code",
   "execution_count": null,
   "metadata": {},
   "outputs": [],
   "source": [
    "#### LUKE\n",
    "#Real GDP per capita by state by year\n",
    "\n",
    "rGDP_pc_2015 = pd.read_csv('Real_GDP_pc/2015_rGDP_edit.csv')\n",
    "rGDP_pc_2016 = pd.read_csv('Real_GDP_pc/2016_rGDP_edit.csv')\n",
    "rGDP_pc_2017 = pd.read_csv('Real_GDP_pc/2017_rGDP_edit.csv')\n",
    "#Unemployment delta by state, 2016--2018\n",
    "## US national delta = -1%\n",
    "unemp_delta = pd.read_csv('unemp_delta.csv')\n",
    "\n",
    "\n",
    "\n",
    "economic_indicators = rGDP_pc_2015.copy()\n",
    "\n",
    "economic_indicators.columns = ['state','2015_GDP']\n",
    "economic_indicators['2016_GDP'] = rGDP_pc_2016['value']\n",
    "economic_indicators['2017_GDP'] = rGDP_pc_2017['value']\n",
    "economic_indicators = economic_indicators.merge(unemp_delta, on = 'state')\n",
    "economic_indicators['state'] = states"
   ]
  },
  {
   "cell_type": "code",
   "execution_count": null,
   "metadata": {},
   "outputs": [],
   "source": [
    "economic_indicators"
   ]
  },
  {
   "cell_type": "code",
   "execution_count": null,
   "metadata": {},
   "outputs": [],
   "source": [
    "import glob\n",
    "\n",
    "# get data file names\n",
    "path =r'C:\\DRO\\DCL_rawdata_files'\n",
    "filenames = glob.glob('District Data' + \"/*.csv\")\n",
    "\n",
    "\n",
    "dfs = {}\n",
    "\n",
    "filenames.sort()\n",
    "i = 0 \n",
    "for filename in filenames:\n",
    "    dfs['state' + str(i)] = pd.read_csv(filename)\n",
    "    i = i + 1\n",
    "    "
   ]
  },
  {
   "cell_type": "code",
   "execution_count": null,
   "metadata": {},
   "outputs": [],
   "source": [
    "district_winners_2016 = pd.DataFrame()\n",
    "for state in states : \n",
    "    temp = Election_2016.loc[Election_2016['state_po'] == state]\n",
    "    #number of districts\n",
    "    districts_number = temp['district'].max()\n",
    "    while districts_number > 0 : \n",
    "        district = temp.loc[temp['district'] == districts_number]\n",
    "        winner = pd.DataFrame(district.loc[district['candidatevotes'] == district['candidatevotes'].max()])\n",
    "        district_winners_2016 = district_winners_2016.append(winner)\n",
    "        districts_number = districts_number - 1"
   ]
  },
  {
   "cell_type": "code",
   "execution_count": null,
   "metadata": {},
   "outputs": [],
   "source": [
    "# for district in district_winners_2016.iterrows() : \n",
    "#     print(district['party'])\n",
    "    \n",
    "#for district in district_winners_2016.iterrows() : \n",
    "#     print(district['party'])\n",
    "#     if district.iloc[:,12] == 'republican' : \n",
    "#         district['class'] = 0\n",
    "#     elif district[12] == 'democrat' : \n",
    "#         district['class'] = 1\n",
    "#     else :\n",
    "#         district['class'] = 2"
   ]
  },
  {
   "cell_type": "code",
   "execution_count": null,
   "metadata": {},
   "outputs": [],
   "source": [
    "\n",
    "percentage_below_poverty_line = []\n",
    "percent_bachelor = []\n",
    "percent_hs = []\n",
    "for state in dfs:\n",
    "    num_cols = len(dfs[state].columns)\n",
    "    stats_pl = dfs[state][dfs[state]['Subject'] == 'Percentage of Families and People Whose Income in the Past 12 Months is Below the Poverty Level'].iloc[0:1,]\n",
    "    stats_ba = dfs[state][dfs[state]['Title'] == \"Percent bachelor's degree or higher\"]\n",
    "    stats_hs = dfs[state][dfs[state]['Title'] == \"Percent high school graduate or higher\"]\n",
    "    pl_mean_sum = 0\n",
    "    hs_mean_sum = 0\n",
    "    ba_mean_sum = 0\n",
    "    for col in range(num_cols):\n",
    "        if col < 3:\n",
    "            continue\n",
    "        elif (col % 2) != 0:\n",
    "            pl_mean_sum += float(stats_pl.iloc[:,col].values[0])\n",
    "            hs_mean_sum += float(stats_hs.iloc[:,col].values[0])\n",
    "            ba_mean_sum += float(stats_ba.iloc[:,col].values[0])\n",
    "        else:\n",
    "            continue\n",
    "            \n",
    "    pl_mean = pl_mean_sum / ((num_cols - 3)/2)\n",
    "    percentage_below_poverty_line.append(pl_mean)\n",
    "    \n",
    "    hs_mean = hs_mean_sum / ((num_cols - 3)/2)\n",
    "    \n",
    "    ba_mean = ba_mean_sum / ((num_cols - 3)/2)\n",
    "    \n",
    "    percent_hs.append(hs_mean)\n",
    "    percent_bachelor.append(ba_mean)\n",
    "    \n",
    "    "
   ]
  },
  {
   "cell_type": "code",
   "execution_count": null,
   "metadata": {},
   "outputs": [],
   "source": [
    "sports_results['poverty'] = pd.Series(percentage_below_poverty_line)\n",
    "sports_results['bachelors'] = pd.Series(percent_bachelor)\n",
    "sports_results['hs'] = pd.Series(percent_hs)"
   ]
  },
  {
   "cell_type": "code",
   "execution_count": null,
   "metadata": {},
   "outputs": [],
   "source": [
    "sports_results"
   ]
  },
  {
   "cell_type": "code",
   "execution_count": null,
   "metadata": {},
   "outputs": [],
   "source": []
  },
  {
   "cell_type": "code",
   "execution_count": null,
   "metadata": {},
   "outputs": [],
   "source": []
  },
  {
   "cell_type": "code",
   "execution_count": null,
   "metadata": {},
   "outputs": [],
   "source": []
  }
 ],
 "metadata": {
  "kernelspec": {
   "display_name": "Python [conda env:root] *",
   "language": "python",
   "name": "conda-root-py"
  },
  "language_info": {
   "codemirror_mode": {
    "name": "ipython",
    "version": 3
   },
   "file_extension": ".py",
   "mimetype": "text/x-python",
   "name": "python",
   "nbconvert_exporter": "python",
   "pygments_lexer": "ipython3",
   "version": "3.7.4"
  }
 },
 "nbformat": 4,
 "nbformat_minor": 2
}
