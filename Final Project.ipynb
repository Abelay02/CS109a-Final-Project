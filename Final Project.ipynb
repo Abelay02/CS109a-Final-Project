{
 "cells": [
  {
   "cell_type": "code",
   "execution_count": 1,
   "metadata": {},
   "outputs": [],
   "source": [
    "import numpy as np\n",
    "import pandas as pd\n",
    "import matplotlib.pyplot as plt"
   ]
  },
  {
   "cell_type": "code",
   "execution_count": 2,
   "metadata": {},
   "outputs": [],
   "source": [
    "# load data \n",
    "\n",
    "# House election Harvard Dataverse https://dataverse.harvard.edu/dataset.xhtml?persistentId=doi:10.7910/DVN/IG0UN2\n",
    "district_results = pd.read_csv('1976-2018-house.csv', header=0,encoding = 'unicode_escape')\n",
    "district_results['candidatevotes'] = district_results['candidatevotes'].str.replace(',', '')\n",
    "district_results['candidatevotes'] = district_results['candidatevotes'].astype(int)\n",
    "\n",
    "# 2016 Election Results https://transition.fec.gov/general/FederalElections2016.shtml\n",
    "pres_gen_results_2016 = pd.read_csv('2016 Pres General Results-Table 1.csv', header=0,encoding = 'unicode_escape')\n",
    "sen_results_2016 = pd.read_csv('2016 US Senate Results by State-Table 1.csv', header=0,encoding = 'unicode_escape')\n",
    "house_results_2016 = pd.read_csv('2016 US House Results by State-Table 1.csv', header=0,encoding = 'unicode_escape')\n",
    "\n",
    "Election_2016 = district_results.loc[district_results['year'] == 2016]\n",
    "\n",
    "sports_results = pd.read_csv('sports_data.csv')\n",
    "\n",
    "# State\n",
    "states = ['AL', 'AK', 'AZ', 'AR', 'CA', 'CO', 'CT', 'DC','DE', 'FL', 'GA', 'HI', 'ID', 'IL', 'IN', 'IA', 'KS', 'KY', 'LA', 'ME', 'MD', 'MA', 'MI', 'MN', 'MS', 'MO', 'MT', 'NE', 'NV', 'NH', 'NJ', 'NM', 'NY', 'NC', 'ND', 'OH', 'OK', 'OR', 'PA', 'RI', 'SC', 'SD', 'TN', 'TX', 'UT', 'VT', 'VA', 'WA', 'WV', 'WI', 'WY']"
   ]
  },
  {
   "cell_type": "code",
   "execution_count": 3,
   "metadata": {},
   "outputs": [],
   "source": [
    "import glob\n",
    "\n",
    "# get data file names\n",
    "path =r'C:\\DRO\\DCL_rawdata_files'\n",
    "filenames = glob.glob('District Data' + \"/*.csv\")\n",
    "\n",
    "\n",
    "dfs = {}\n",
    "\n",
    "filenames.sort()\n",
    "i = 0 \n",
    "for filename in filenames:\n",
    "    dfs['state' + str(i)] = pd.read_csv(filename)\n",
    "    i = i + 1\n",
    "    "
   ]
  },
  {
   "cell_type": "code",
   "execution_count": 4,
   "metadata": {},
   "outputs": [],
   "source": [
    "district_winners_2016 = pd.DataFrame()\n",
    "for state in states : \n",
    "    temp = Election_2016.loc[Election_2016['state_po'] == state]\n",
    "    #number of districts\n",
    "    districts_number = temp['district'].max()\n",
    "    while districts_number > 0 : \n",
    "        district = temp.loc[temp['district'] == districts_number]\n",
    "        winner = pd.DataFrame(district.loc[district['candidatevotes'] == district['candidatevotes'].max()])\n",
    "        district_winners_2016 = district_winners_2016.append(winner)\n",
    "        districts_number = districts_number - 1"
   ]
  },
  {
   "cell_type": "code",
   "execution_count": 32,
   "metadata": {},
   "outputs": [],
   "source": [
    "#will now correctly classify the winning party but doesn't put it into the original dataframe\n",
    "    \n",
    "for district in district_winners_2016.iterrows():\n",
    "    # May be able to use the vote count to assign the correct value back to the original dataframe, \n",
    "    # only two winners shared an exact vote count so only 1 collision must be handled\n",
    "    if district[1]['party'] == 'republican' : \n",
    "        district_winners_2016.loc[district[0],'class'] = 0\n",
    "    elif district[1]['party'] == 'democrat' :\n",
    "        district_winners_2016.loc[district[0],'class'] = 1\n",
    "    else:\n",
    "        district_winners_2016.loc[district[0],'class'] = 2"
   ]
  },
  {
   "cell_type": "code",
   "execution_count": 5,
   "metadata": {},
   "outputs": [],
   "source": [
    "\n",
    "percentage_below_poverty_line = []\n",
    "percent_bachelor = []\n",
    "percent_hs = []\n",
    "for state in dfs:\n",
    "    num_cols = len(dfs[state].columns)\n",
    "    stats_pl = dfs[state][dfs[state]['Subject'] == 'Percentage of Families and People Whose Income in the Past 12 Months is Below the Poverty Level'].iloc[0:1,]\n",
    "    stats_ba = dfs[state][dfs[state]['Title'] == \"Percent bachelor's degree or higher\"]\n",
    "    stats_hs = dfs[state][dfs[state]['Title'] == \"Percent high school graduate or higher\"]\n",
    "    pl_mean_sum = 0\n",
    "    hs_mean_sum = 0\n",
    "    ba_mean_sum = 0\n",
    "    for col in range(num_cols):\n",
    "        if col < 3:\n",
    "            continue\n",
    "        elif (col % 2) != 0:\n",
    "            pl_mean_sum += float(stats_pl.iloc[:,col].values[0])\n",
    "            hs_mean_sum += float(stats_hs.iloc[:,col].values[0])\n",
    "            ba_mean_sum += float(stats_ba.iloc[:,col].values[0])\n",
    "        else:\n",
    "            continue\n",
    "            \n",
    "    pl_mean = pl_mean_sum / ((num_cols - 3)/2)\n",
    "    percentage_below_poverty_line.append(pl_mean)\n",
    "    \n",
    "    hs_mean = hs_mean_sum / ((num_cols - 3)/2)\n",
    "    \n",
    "    ba_mean = ba_mean_sum / ((num_cols - 3)/2)\n",
    "    \n",
    "    percent_hs.append(hs_mean)\n",
    "    percent_bachelor.append(ba_mean)\n",
    "    \n",
    "    "
   ]
  },
  {
   "cell_type": "code",
   "execution_count": 6,
   "metadata": {},
   "outputs": [],
   "source": [
    "sports_results['poverty'] = pd.Series(percentage_below_poverty_line)\n",
    "sports_results['bachelors'] = pd.Series(percent_bachelor)\n",
    "sports_results['hs'] = pd.Series(percent_hs)"
   ]
  },
  {
   "cell_type": "code",
   "execution_count": 37,
   "metadata": {},
   "outputs": [
    {
     "data": {
      "text/html": [
       "<div>\n",
       "<style scoped>\n",
       "    .dataframe tbody tr th:only-of-type {\n",
       "        vertical-align: middle;\n",
       "    }\n",
       "\n",
       "    .dataframe tbody tr th {\n",
       "        vertical-align: top;\n",
       "    }\n",
       "\n",
       "    .dataframe thead th {\n",
       "        text-align: right;\n",
       "    }\n",
       "</style>\n",
       "<table border=\"1\" class=\"dataframe\">\n",
       "  <thead>\n",
       "    <tr style=\"text-align: right;\">\n",
       "      <th></th>\n",
       "      <th>State</th>\n",
       "      <th>cfb</th>\n",
       "      <th>nfl</th>\n",
       "      <th>nba</th>\n",
       "      <th>cbb</th>\n",
       "      <th>average</th>\n",
       "      <th>poverty</th>\n",
       "      <th>bachelors</th>\n",
       "      <th>hs</th>\n",
       "    </tr>\n",
       "  </thead>\n",
       "  <tbody>\n",
       "    <tr>\n",
       "      <th>0</th>\n",
       "      <td>AK</td>\n",
       "      <td>0.565</td>\n",
       "      <td>0.846</td>\n",
       "      <td>0.720</td>\n",
       "      <td>0.517</td>\n",
       "      <td>0.66200</td>\n",
       "      <td>7.500000</td>\n",
       "      <td>30.200000</td>\n",
       "      <td>93.300000</td>\n",
       "    </tr>\n",
       "    <tr>\n",
       "      <th>1</th>\n",
       "      <td>AL</td>\n",
       "      <td>0.933</td>\n",
       "      <td>0.813</td>\n",
       "      <td>0.293</td>\n",
       "      <td>0.556</td>\n",
       "      <td>0.64875</td>\n",
       "      <td>12.471429</td>\n",
       "      <td>25.300000</td>\n",
       "      <td>86.485714</td>\n",
       "    </tr>\n",
       "    <tr>\n",
       "      <th>2</th>\n",
       "      <td>AR</td>\n",
       "      <td>0.142</td>\n",
       "      <td>0.625</td>\n",
       "      <td>0.268</td>\n",
       "      <td>0.657</td>\n",
       "      <td>0.42300</td>\n",
       "      <td>12.775000</td>\n",
       "      <td>23.100000</td>\n",
       "      <td>87.175000</td>\n",
       "    </tr>\n",
       "    <tr>\n",
       "      <th>3</th>\n",
       "      <td>AZ</td>\n",
       "      <td>0.666</td>\n",
       "      <td>0.500</td>\n",
       "      <td>0.256</td>\n",
       "      <td>0.771</td>\n",
       "      <td>0.54825</td>\n",
       "      <td>10.244444</td>\n",
       "      <td>29.400000</td>\n",
       "      <td>87.111111</td>\n",
       "    </tr>\n",
       "    <tr>\n",
       "      <th>4</th>\n",
       "      <td>CA</td>\n",
       "      <td>0.636</td>\n",
       "      <td>0.813</td>\n",
       "      <td>0.707</td>\n",
       "      <td>0.636</td>\n",
       "      <td>0.69800</td>\n",
       "      <td>9.303774</td>\n",
       "      <td>33.383019</td>\n",
       "      <td>83.313208</td>\n",
       "    </tr>\n",
       "  </tbody>\n",
       "</table>\n",
       "</div>"
      ],
      "text/plain": [
       "  State    cfb    nfl    nba    cbb  average    poverty  bachelors         hs\n",
       "0    AK  0.565  0.846  0.720  0.517  0.66200   7.500000  30.200000  93.300000\n",
       "1    AL  0.933  0.813  0.293  0.556  0.64875  12.471429  25.300000  86.485714\n",
       "2    AR  0.142  0.625  0.268  0.657  0.42300  12.775000  23.100000  87.175000\n",
       "3    AZ  0.666  0.500  0.256  0.771  0.54825  10.244444  29.400000  87.111111\n",
       "4    CA  0.636  0.813  0.707  0.636  0.69800   9.303774  33.383019  83.313208"
      ]
     },
     "execution_count": 37,
     "metadata": {},
     "output_type": "execute_result"
    }
   ],
   "source": [
    "sports_results.head()"
   ]
  },
  {
   "cell_type": "code",
   "execution_count": 35,
   "metadata": {},
   "outputs": [
    {
     "data": {
      "text/plain": [
       "0.0    236\n",
       "1.0    192\n",
       "Name: class, dtype: int64"
      ]
     },
     "execution_count": 35,
     "metadata": {},
     "output_type": "execute_result"
    }
   ],
   "source": [
    "district_winners_2016['class'].value_counts()"
   ]
  },
  {
   "cell_type": "code",
   "execution_count": null,
   "metadata": {},
   "outputs": [],
   "source": []
  }
 ],
 "metadata": {
  "kernelspec": {
   "display_name": "Python 3",
   "language": "python",
   "name": "python3"
  },
  "language_info": {
   "codemirror_mode": {
    "name": "ipython",
    "version": 3
   },
   "file_extension": ".py",
   "mimetype": "text/x-python",
   "name": "python",
   "nbconvert_exporter": "python",
   "pygments_lexer": "ipython3",
   "version": "3.6.9"
  }
 },
 "nbformat": 4,
 "nbformat_minor": 2
}
