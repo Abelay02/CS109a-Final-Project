{
 "cells": [
  {
   "cell_type": "code",
   "execution_count": 1,
   "metadata": {},
   "outputs": [],
   "source": [
    "import numpy as np\n",
    "import pandas as pd\n",
    "import matplotlib.pyplot as plt\n",
    "from sklearn.model_selection import train_test_split\n",
    "from sklearn.metrics import confusion_matrix\n",
    "from sklearn.preprocessing import MinMaxScaler\n",
    "from sklearn.preprocessing import StandardScaler\n",
    "from sklearn.linear_model import LogisticRegression\n",
    "from sklearn.linear_model import LogisticRegressionCV\n",
    "from sklearn.linear_model import LassoCV\n",
    "from sklearn.neighbors import KNeighborsClassifier\n",
    "from sklearn.ensemble import RandomForestClassifier\n",
    "from sklearn.ensemble import AdaBoostClassifier\n",
    "from sklearn.tree import DecisionTreeClassifier\n",
    "from sklearn.metrics import accuracy_score\n",
    "from sklearn.model_selection import cross_val_score\n",
    "from sklearn.utils import resample\n",
    "import statsmodels.api as sm\n",
    "from statsmodels.api import OLS\n",
    "\n",
    "import tensorflow as tf"
   ]
  },
  {
   "cell_type": "code",
   "execution_count": 2,
   "metadata": {},
   "outputs": [],
   "source": [
    "# load data \n",
    "\n",
    "# House election Harvard Dataverse https://dataverse.harvard.edu/dataset.xhtml?persistentId=doi:10.7910/DVN/IG0UN2\n",
    "district_results = pd.read_csv('1976-2018-house.csv', header=0,encoding = 'unicode_escape')\n",
    "district_results['candidatevotes'] = district_results['candidatevotes'].str.replace(',', '')\n",
    "district_results['candidatevotes'] = district_results['candidatevotes'].astype(int)\n",
    "\n",
    "# 2016 Election Results https://transition.fec.gov/general/FederalElections2016.shtml\n",
    "pres_gen_results_2016 = pd.read_csv('2016 Pres General Results-Table 1.csv', header=0,encoding = 'unicode_escape')\n",
    "sen_results_2016 = pd.read_csv('2016 US Senate Results by State-Table 1.csv', header=0,encoding = 'unicode_escape')\n",
    "house_results_2016 = pd.read_csv('2016 US House Results by State-Table 1.csv', header=0,encoding = 'unicode_escape')\n",
    "\n",
    "#12/14 State Results\n",
    "Election_2012 = district_results.loc[district_results['year'] == 2012]\n",
    "Election_2014 = district_results.loc[district_results['year'] == 2014]\n",
    "# 16/18 State Results \n",
    "Election_2016 = district_results.loc[district_results['year'] == 2016]\n",
    "Election_2018 = district_results.loc[district_results['year'] == 2018]\n",
    "\n",
    "# Sports Data \n",
    "sports_results = pd.read_csv('sports_data.csv')\n",
    "\n",
    "states = ['AL', 'AK', 'AZ', 'AR', 'CA', 'CO', 'CT', 'DE','DC', 'FL', 'GA', 'HI', 'ID', 'IL', 'IN', 'IA', 'KS', 'KY', 'LA', 'ME', 'MD', 'MA', 'MI', 'MN', 'MS', 'MO', 'MT', 'NE', 'NV', 'NH', 'NJ', 'NM', 'NY', 'NC', 'ND', 'OH', 'OK', 'OR', 'PA', 'RI', 'SC', 'SD', 'TN', 'TX', 'UT', 'VT', 'VA', 'WA', 'WV', 'WI', 'WY']"
   ]
  },
  {
   "cell_type": "code",
   "execution_count": 3,
   "metadata": {},
   "outputs": [],
   "source": [
    "import glob\n",
    "\n",
    "# Load Census District Data\n",
    "\n",
    "filenames = glob.glob('District Data' + \"/*.csv\")\n",
    "\n",
    "\n",
    "dfs = {}\n",
    "\n",
    "filenames.sort()\n",
    "i = 0 \n",
    "for filename in filenames:\n",
    "    dfs['state' + str(i)] = pd.read_csv(filename)\n",
    "    i = i + 1\n",
    "    "
   ]
  },
  {
   "cell_type": "code",
   "execution_count": 4,
   "metadata": {},
   "outputs": [],
   "source": [
    "##### 2014 Set  (includes 2012,2014)\n",
    "#Get winners for each district \n",
    "district_winners_2012 = pd.DataFrame()\n",
    "for state in states : \n",
    "    temp = Election_2012.loc[Election_2012['state_po'] == state]\n",
    "    #number of districts\n",
    "    districts_number = temp['district'].max()\n",
    "    while districts_number >= 0 : \n",
    "        district = temp.loc[temp['district'] == districts_number]\n",
    "        winner = pd.DataFrame(district.loc[district['candidatevotes'] == district['candidatevotes'].max()])\n",
    "        district_winners_2012 = district_winners_2012.append(winner)\n",
    "        districts_number = districts_number - 1\n",
    "\n",
    "#will be the 'result'\n",
    "district_winners_2014 = pd.DataFrame()\n",
    "for state in states : \n",
    "    temp = Election_2014.loc[Election_2014['state_po'] == state]\n",
    "    #number of districts\n",
    "    districts_number = temp['district'].max()\n",
    "    while districts_number >= 0 : \n",
    "        district = temp.loc[temp['district'] == districts_number]\n",
    "        winner = pd.DataFrame(district.loc[district['candidatevotes'] == district['candidatevotes'].max()])\n",
    "        district_winners_2014 = district_winners_2014.append(winner)\n",
    "        districts_number = districts_number - 1\n",
    "\n",
    "\n",
    "###### 2018 Set (includes 2016,2018)\n",
    "district_winners_2016 = pd.DataFrame()\n",
    "for state in states : \n",
    "    temp = Election_2016.loc[Election_2016['state_po'] == state]\n",
    "    #number of districts\n",
    "    districts_number = temp['district'].max()\n",
    "    while districts_number >= 0 : \n",
    "        district = temp.loc[temp['district'] == districts_number]\n",
    "        winner = pd.DataFrame(district.loc[district['candidatevotes'] == district['candidatevotes'].max()])\n",
    "        district_winners_2016 = district_winners_2016.append(winner)\n",
    "        districts_number = districts_number - 1\n",
    "\n",
    "district_winners_2018 = pd.DataFrame()\n",
    "for state in states : \n",
    "    temp = Election_2018.loc[Election_2018['state_po'] == state]\n",
    "    #number of districts\n",
    "    districts_number = temp['district'].max()\n",
    "    while districts_number >= 0 : \n",
    "        district = temp.loc[temp['district'] == districts_number]\n",
    "        winner = pd.DataFrame(district.loc[district['candidatevotes'] == district['candidatevotes'].max()])\n",
    "        district_winners_2018 = district_winners_2018.append(winner)\n",
    "        districts_number = districts_number - 1"
   ]
  },
  {
   "cell_type": "code",
   "execution_count": 5,
   "metadata": {},
   "outputs": [
    {
     "data": {
      "text/plain": [
       "50"
      ]
     },
     "execution_count": 5,
     "metadata": {},
     "output_type": "execute_result"
    }
   ],
   "source": [
    "len(district_winners_2018.state_po.value_counts())"
   ]
  },
  {
   "cell_type": "code",
   "execution_count": 6,
   "metadata": {},
   "outputs": [],
   "source": [
    "# Classify based on party \n",
    "\n",
    "for district in district_winners_2012.iterrows():\n",
    "    # May be able to use the vote count to assign the correct value back to the original dataframe, \n",
    "    # only two winners shared an exact vote count so only 1 collision must be handled\n",
    "    if district[1]['party'] == 'republican' : \n",
    "        district_winners_2012.loc[district[0],'class'] = 0\n",
    "    elif district[1]['party'] == 'democrat' :\n",
    "        district_winners_2012.loc[district[0],'class'] = 1\n",
    "    else:\n",
    "        district_winners_2012.loc[district[0],'class'] = 2\n",
    "        \n",
    "for district in district_winners_2014.iterrows():\n",
    "    # May be able to use the vote count to assign the correct value back to the original dataframe, \n",
    "    # only two winners shared an exact vote count so only 1 collision must be handled\n",
    "    if district[1]['party'] == 'republican' : \n",
    "        district_winners_2014.loc[district[0],'class'] = 0\n",
    "    elif district[1]['party'] == 'democrat' :\n",
    "        district_winners_2014.loc[district[0],'class'] = 1\n",
    "    else:\n",
    "        district_winners_2014.loc[district[0],'class'] = 2\n",
    "\n",
    "    \n",
    "for district in district_winners_2016.iterrows():\n",
    "    # May be able to use the vote count to assign the correct value back to the original dataframe, \n",
    "    # only two winners shared an exact vote count so only 1 collision must be handled\n",
    "    if district[1]['party'] == 'republican' : \n",
    "        district_winners_2016.loc[district[0],'class'] = 0\n",
    "    elif district[1]['party'] == 'democrat' :\n",
    "        district_winners_2016.loc[district[0],'class'] = 1\n",
    "    else:\n",
    "        district_winners_2016.loc[district[0],'class'] = 2\n",
    "\n",
    "for district in district_winners_2018.iterrows():\n",
    "    # May be able to use the vote count to assign the correct value back to the original dataframe, \n",
    "    # only two winners shared an exact vote count so only 1 collision must be handled\n",
    "    if district[1]['party'] == 'republican' : \n",
    "        district_winners_2018.loc[district[0],'class'] = 0\n",
    "    elif district[1]['party'] == 'democrat' :\n",
    "        district_winners_2018.loc[district[0],'class'] = 1\n",
    "    else:\n",
    "        district_winners_2018.loc[district[0],'class'] = 2\n"
   ]
  },
  {
   "cell_type": "code",
   "execution_count": 7,
   "metadata": {},
   "outputs": [],
   "source": [
    "# Mean statistic across all districts for each state  \n",
    "\n",
    "percentage_below_poverty_line = []\n",
    "percent_bachelor = []\n",
    "percent_hs = []\n",
    "for state in dfs:\n",
    "    num_cols = len(dfs[state].columns)\n",
    "    stats_pl = dfs[state][dfs[state]['Subject'] == 'Percentage of Families and People Whose Income in the Past 12 Months is Below the Poverty Level'].iloc[0:1,]\n",
    "    stats_ba = dfs[state][dfs[state]['Title'] == \"Percent bachelor's degree or higher\"]\n",
    "    stats_hs = dfs[state][dfs[state]['Title'] == \"Percent high school graduate or higher\"]\n",
    "    pl_mean_sum = 0\n",
    "    hs_mean_sum = 0\n",
    "    ba_mean_sum = 0\n",
    "    for col in range(num_cols):\n",
    "        if col < 3:\n",
    "            continue\n",
    "        elif (col % 2) != 0:\n",
    "            pl_mean_sum += float(stats_pl.iloc[:,col].values[0])\n",
    "            hs_mean_sum += float(stats_hs.iloc[:,col].values[0])\n",
    "            ba_mean_sum += float(stats_ba.iloc[:,col].values[0])\n",
    "        else:\n",
    "            continue\n",
    "            \n",
    "    pl_mean = pl_mean_sum / ((num_cols - 3)/2)\n",
    "    percentage_below_poverty_line.append(pl_mean)\n",
    "    \n",
    "    hs_mean = hs_mean_sum / ((num_cols - 3)/2)\n",
    "    \n",
    "    ba_mean = ba_mean_sum / ((num_cols - 3)/2)\n",
    "    \n",
    "    percent_hs.append(hs_mean)\n",
    "    percent_bachelor.append(ba_mean)\n",
    "    \n",
    "    "
   ]
  },
  {
   "cell_type": "code",
   "execution_count": 8,
   "metadata": {},
   "outputs": [],
   "source": [
    "# Add average district data to sports dataframe \n",
    "sports_results['poverty18'] = pd.Series(percentage_below_poverty_line)/100\n",
    "sports_results['bachelors18'] = pd.Series(percent_bachelor)/100\n",
    "sports_results['hs18'] = pd.Series(percent_hs)/100"
   ]
  },
  {
   "cell_type": "code",
   "execution_count": 9,
   "metadata": {
    "scrolled": true
   },
   "outputs": [],
   "source": [
    "# District Data for 2014\n",
    "\n",
    "#education data\n",
    "district_educ = pd.read_csv('district14/Education Attainment edited.csv', header=0,encoding = 'unicode_escape')\n",
    "bach = district_educ[\"Total; Estimate; Percent bachelor's degree or higher\"]\n",
    "hs = district_educ[\"Total; Estimate; Percent high school graduate or higher\"]\n",
    "state_names = district_educ['Geography']\n",
    "\n",
    "# poverty data\n",
    "district_pov = pd.read_csv('district14/District Poverty.csv')\n",
    "poverty = district_pov['Percent below poverty level; Estimate; Population for whom poverty status is determined']\n",
    "\n",
    "dist14 = pd.DataFrame(state_names)\n",
    "dist14.insert(1, \"hs14\", hs/100)\n",
    "dist14.insert(2, \"bachelors14\", bach/100)\n",
    "dist14.insert(3, \"poverty14\", poverty/100)\n",
    "dist14 = dist14[:51]\n",
    "dist14.insert(4, 'state', states)"
   ]
  },
  {
   "cell_type": "code",
   "execution_count": 10,
   "metadata": {},
   "outputs": [],
   "source": [
    "sports_results = sports_results.join(dist14.set_index('state'), on='State').drop('Geography', axis=1)\n"
   ]
  },
  {
   "cell_type": "code",
   "execution_count": null,
   "metadata": {},
   "outputs": [],
   "source": []
  },
  {
   "cell_type": "code",
   "execution_count": 11,
   "metadata": {},
   "outputs": [],
   "source": [
    "\n",
    "#Real GDP per capita by state by year (2018 set)\n",
    "rGDP_pc_2015 = pd.read_csv('Real_GDP_pc/2015_rGDP_edit.csv')\n",
    "rGDP_pc_2016 = pd.read_csv('Real_GDP_pc/2016_rGDP_edit.csv')\n",
    "rGDP_pc_2017 = pd.read_csv('Real_GDP_pc/2017_rGDP_edit.csv')\n",
    "\n",
    "#Real GDP per capita by state by year (2014 set)\n",
    "rGDP_pc_2011 = pd.read_csv('Real_GDP_pc/2011_rGDP_edit.csv')\n",
    "rGDP_pc_2012 = pd.read_csv('Real_GDP_pc/2012_rGDP_edit.csv')\n",
    "rGDP_pc_2013 = pd.read_csv('Real_GDP_pc/2013_rGDP_edit.csv')\n",
    "\n",
    "\n",
    "#Unemployment delta by state, 2016--2018\n",
    "## US national delta = -1%\n",
    "unemp_delta_df = pd.read_csv('2014_2018_unemp_oneyr_delta.csv')\n",
    "rGDP_pc_2015.columns = ['state','2015_GDP']\n",
    "economic_indicators = rGDP_pc_2015.copy()\n",
    "economic_indicators['2016_GDP'] = rGDP_pc_2016['value']\n",
    "economic_indicators['2017_GDP'] = rGDP_pc_2017['value']\n",
    "economic_indicators['2011_GDP'] = rGDP_pc_2011['value']\n",
    "economic_indicators['2012_GDP'] = rGDP_pc_2012['value']\n",
    "economic_indicators['2013_GDP'] = rGDP_pc_2013['value']\n",
    "\n",
    "economic_indicators['state'] = states\n",
    "# economic_indicators = economic_indicators.join(unemp_delta_df, on = 'state')\n",
    "economic_indicators = economic_indicators.join(unemp_delta_df.set_index('state'), on='state', how='inner')\n",
    "\n",
    "\n",
    "economic_indicators['GDP_growth_2017'] = (economic_indicators['2017_GDP']-economic_indicators['2016_GDP'])/ economic_indicators['2017_GDP']\n",
    "economic_indicators['GDP_growth_2013'] = (economic_indicators['2013_GDP']-economic_indicators['2012_GDP'])/ economic_indicators['2013_GDP']\n"
   ]
  },
  {
   "cell_type": "code",
   "execution_count": 12,
   "metadata": {},
   "outputs": [],
   "source": [
    "economic_indicators18 = economic_indicators[['state', '2015_GDP', '2016_GDP', '2017_GDP','2018_oneyr_unemp_delta', 'GDP_growth_2017']]\n",
    "economic_indicators14 = economic_indicators[['state', '2011_GDP', '2012_GDP', '2013_GDP','2014_oneyr_unemp_delta', 'GDP_growth_2013']]\n",
    "sports_results18 = sports_results[['State','cfb 18', 'nfl 18', 'nba 18', 'cbb 18', 'poverty18', 'bachelors18', 'hs18']]\n",
    "sports_results14 = sports_results[['State','cfb 14', 'nfl 14', 'nba 14', 'cbb 14', 'poverty14', 'bachelors14', 'hs14']]\n"
   ]
  },
  {
   "cell_type": "code",
   "execution_count": 13,
   "metadata": {},
   "outputs": [
    {
     "name": "stderr",
     "output_type": "stream",
     "text": [
      "/anaconda3/envs/tfcs109a/lib/python3.6/site-packages/pandas/core/indexing.py:376: SettingWithCopyWarning: \n",
      "A value is trying to be set on a copy of a slice from a DataFrame.\n",
      "Try using .loc[row_indexer,col_indexer] = value instead\n",
      "\n",
      "See the caveats in the documentation: http://pandas.pydata.org/pandas-docs/stable/user_guide/indexing.html#returning-a-view-versus-a-copy\n",
      "  self.obj[key] = _infer_fill_value(value)\n",
      "/anaconda3/envs/tfcs109a/lib/python3.6/site-packages/pandas/core/indexing.py:494: SettingWithCopyWarning: \n",
      "A value is trying to be set on a copy of a slice from a DataFrame.\n",
      "Try using .loc[row_indexer,col_indexer] = value instead\n",
      "\n",
      "See the caveats in the documentation: http://pandas.pydata.org/pandas-docs/stable/user_guide/indexing.html#returning-a-view-versus-a-copy\n",
      "  self.obj[item] = s\n"
     ]
    }
   ],
   "source": [
    "# Classify based on presidential election results \n",
    "\n",
    "pres_by_state = pres_gen_results_2016[pres_gen_results_2016['WINNER INDICATOR']=='W']\n",
    "for state in pres_by_state.iterrows():\n",
    "    if state[1]['LAST NAME'] == 'Trump' : \n",
    "        pres_by_state.loc[state[0],'pres_class'] = 0.0\n",
    "    else:\n",
    "        pres_by_state.loc[state[0],'pres_class'] = 1.0\n",
    "pres_by_state = pres_by_state[['STATE ABBREVIATION', 'pres_class']]\n",
    "\n",
    "pres_by_state['State'] = pres_by_state['STATE ABBREVIATION']\n",
    "pres_by_state = pres_by_state.drop('STATE ABBREVIATION', axis=1)\n",
    "# pres_class tells us which party won that state in the 2016 presidential election"
   ]
  },
  {
   "cell_type": "code",
   "execution_count": 14,
   "metadata": {},
   "outputs": [],
   "source": [
    "# Combine sports, incumbency, presidential results, economic data dataframes \n",
    "def same(row):\n",
    "    if row.pres == row.incumbency:\n",
    "        return 1\n",
    "    else:\n",
    "        return 0\n",
    "    \n",
    "def incwin(row):\n",
    "    if row['class'] == row.incumbency:\n",
    "        return 1\n",
    "    else:\n",
    "        return 0\n",
    "# Combine remaining incumbency data ***\n",
    "    \n",
    "    \n",
    "district_winners_2018['incumbency'] = list(district_winners_2016['class'])\n",
    "model_frame18 = district_winners_2018[['state_po','state_fips','district','incumbency','class']]\n",
    "model_frame18 = model_frame18.join(sports_results18.set_index('State'), on='state_po', how='inner')\n",
    "model_frame18 = model_frame18.join(pres_by_state.set_index('State'), on='state_po', how='inner')\n",
    "model_frame18 = model_frame18.drop('state_fips', axis=1)\n",
    "model_frame18['state_district'] = model_frame18.apply(lambda row: row.state_po + str(row.district), axis=1)\n",
    "#model_frame = model_frame.drop(['average','district'], axis=1)\n",
    "model_frame18 = model_frame18.join(economic_indicators18.set_index('state'), on='state_po', how='inner')\n",
    "#model_frame18['state_code'] = pd.Categorical(model_frame18.state_po).codes\n",
    "model_frame18['pres'] = 0\n",
    "model_frame18['same'] = model_frame18.apply(lambda row: same(row), axis=1)\n",
    "model_frame18['inc_win'] = model_frame18.apply(lambda row: incwin(row), axis=1)"
   ]
  },
  {
   "cell_type": "code",
   "execution_count": 15,
   "metadata": {},
   "outputs": [],
   "source": [
    "    \n",
    "district_winners_2014['incumbency'] = list(district_winners_2012['class'])\n",
    "model_frame14 = district_winners_2014[['state_po','state_fips','district','incumbency','class']]\n",
    "model_frame14 = model_frame14.join(sports_results14.set_index('State'), on='state_po', how='inner')\n",
    "model_frame14 = model_frame14.join(pres_by_state.set_index('State'), on='state_po', how='inner')\n",
    "model_frame14 = model_frame14.drop('state_fips', axis=1)\n",
    "model_frame14['state_district'] = model_frame14.apply(lambda row: row.state_po + str(row.district), axis=1)\n",
    "#model_frame = model_frame.drop(['average','district'], axis=1)\n",
    "model_frame14 = model_frame14.join(economic_indicators14.set_index('state'), on='state_po', how='inner')\n",
    "#model_frame14['state_code'] = pd.Categorical(model_frame14.state_po).codes\n",
    "model_frame14['pres'] = 1\n",
    "\n",
    "model_frame14['same'] = model_frame14.apply(lambda row: same(row), axis=1)\n",
    "model_frame14['inc_win'] = model_frame14.apply(lambda row: incwin(row), axis=1)"
   ]
  },
  {
   "cell_type": "code",
   "execution_count": 16,
   "metadata": {},
   "outputs": [
    {
     "data": {
      "text/html": [
       "<div>\n",
       "<style scoped>\n",
       "    .dataframe tbody tr th:only-of-type {\n",
       "        vertical-align: middle;\n",
       "    }\n",
       "\n",
       "    .dataframe tbody tr th {\n",
       "        vertical-align: top;\n",
       "    }\n",
       "\n",
       "    .dataframe thead th {\n",
       "        text-align: right;\n",
       "    }\n",
       "</style>\n",
       "<table border=\"1\" class=\"dataframe\">\n",
       "  <thead>\n",
       "    <tr style=\"text-align: right;\">\n",
       "      <th></th>\n",
       "      <th>state_po</th>\n",
       "      <th>district</th>\n",
       "      <th>incumbency</th>\n",
       "      <th>class</th>\n",
       "      <th>cfb 14</th>\n",
       "      <th>nfl 14</th>\n",
       "      <th>nba 14</th>\n",
       "      <th>cbb 14</th>\n",
       "      <th>poverty14</th>\n",
       "      <th>bachelors14</th>\n",
       "      <th>...</th>\n",
       "      <th>pres_class</th>\n",
       "      <th>state_district</th>\n",
       "      <th>2011_GDP</th>\n",
       "      <th>2012_GDP</th>\n",
       "      <th>2013_GDP</th>\n",
       "      <th>2014_oneyr_unemp_delta</th>\n",
       "      <th>GDP_growth_2013</th>\n",
       "      <th>pres</th>\n",
       "      <th>same</th>\n",
       "      <th>inc_win</th>\n",
       "    </tr>\n",
       "  </thead>\n",
       "  <tbody>\n",
       "    <tr>\n",
       "      <th>25498</th>\n",
       "      <td>AL</td>\n",
       "      <td>7</td>\n",
       "      <td>1.0</td>\n",
       "      <td>1.0</td>\n",
       "      <td>0.857</td>\n",
       "      <td>0.375</td>\n",
       "      <td>0.732</td>\n",
       "      <td>0.558</td>\n",
       "      <td>0.189</td>\n",
       "      <td>0.235</td>\n",
       "      <td>...</td>\n",
       "      <td>0.0</td>\n",
       "      <td>AL7</td>\n",
       "      <td>38562</td>\n",
       "      <td>38687</td>\n",
       "      <td>38954</td>\n",
       "      <td>-0.4</td>\n",
       "      <td>0.006854</td>\n",
       "      <td>1</td>\n",
       "      <td>1</td>\n",
       "      <td>1</td>\n",
       "    </tr>\n",
       "    <tr>\n",
       "      <th>25496</th>\n",
       "      <td>AL</td>\n",
       "      <td>6</td>\n",
       "      <td>0.0</td>\n",
       "      <td>0.0</td>\n",
       "      <td>0.857</td>\n",
       "      <td>0.375</td>\n",
       "      <td>0.732</td>\n",
       "      <td>0.558</td>\n",
       "      <td>0.189</td>\n",
       "      <td>0.235</td>\n",
       "      <td>...</td>\n",
       "      <td>0.0</td>\n",
       "      <td>AL6</td>\n",
       "      <td>38562</td>\n",
       "      <td>38687</td>\n",
       "      <td>38954</td>\n",
       "      <td>-0.4</td>\n",
       "      <td>0.006854</td>\n",
       "      <td>1</td>\n",
       "      <td>0</td>\n",
       "      <td>1</td>\n",
       "    </tr>\n",
       "    <tr>\n",
       "      <th>25493</th>\n",
       "      <td>AL</td>\n",
       "      <td>5</td>\n",
       "      <td>0.0</td>\n",
       "      <td>0.0</td>\n",
       "      <td>0.857</td>\n",
       "      <td>0.375</td>\n",
       "      <td>0.732</td>\n",
       "      <td>0.558</td>\n",
       "      <td>0.189</td>\n",
       "      <td>0.235</td>\n",
       "      <td>...</td>\n",
       "      <td>0.0</td>\n",
       "      <td>AL5</td>\n",
       "      <td>38562</td>\n",
       "      <td>38687</td>\n",
       "      <td>38954</td>\n",
       "      <td>-0.4</td>\n",
       "      <td>0.006854</td>\n",
       "      <td>1</td>\n",
       "      <td>0</td>\n",
       "      <td>1</td>\n",
       "    </tr>\n",
       "    <tr>\n",
       "      <th>25489</th>\n",
       "      <td>AL</td>\n",
       "      <td>4</td>\n",
       "      <td>0.0</td>\n",
       "      <td>0.0</td>\n",
       "      <td>0.857</td>\n",
       "      <td>0.375</td>\n",
       "      <td>0.732</td>\n",
       "      <td>0.558</td>\n",
       "      <td>0.189</td>\n",
       "      <td>0.235</td>\n",
       "      <td>...</td>\n",
       "      <td>0.0</td>\n",
       "      <td>AL4</td>\n",
       "      <td>38562</td>\n",
       "      <td>38687</td>\n",
       "      <td>38954</td>\n",
       "      <td>-0.4</td>\n",
       "      <td>0.006854</td>\n",
       "      <td>1</td>\n",
       "      <td>0</td>\n",
       "      <td>1</td>\n",
       "    </tr>\n",
       "    <tr>\n",
       "      <th>25488</th>\n",
       "      <td>AL</td>\n",
       "      <td>3</td>\n",
       "      <td>0.0</td>\n",
       "      <td>0.0</td>\n",
       "      <td>0.857</td>\n",
       "      <td>0.375</td>\n",
       "      <td>0.732</td>\n",
       "      <td>0.558</td>\n",
       "      <td>0.189</td>\n",
       "      <td>0.235</td>\n",
       "      <td>...</td>\n",
       "      <td>0.0</td>\n",
       "      <td>AL3</td>\n",
       "      <td>38562</td>\n",
       "      <td>38687</td>\n",
       "      <td>38954</td>\n",
       "      <td>-0.4</td>\n",
       "      <td>0.006854</td>\n",
       "      <td>1</td>\n",
       "      <td>0</td>\n",
       "      <td>1</td>\n",
       "    </tr>\n",
       "    <tr>\n",
       "      <th>...</th>\n",
       "      <td>...</td>\n",
       "      <td>...</td>\n",
       "      <td>...</td>\n",
       "      <td>...</td>\n",
       "      <td>...</td>\n",
       "      <td>...</td>\n",
       "      <td>...</td>\n",
       "      <td>...</td>\n",
       "      <td>...</td>\n",
       "      <td>...</td>\n",
       "      <td>...</td>\n",
       "      <td>...</td>\n",
       "      <td>...</td>\n",
       "      <td>...</td>\n",
       "      <td>...</td>\n",
       "      <td>...</td>\n",
       "      <td>...</td>\n",
       "      <td>...</td>\n",
       "      <td>...</td>\n",
       "      <td>...</td>\n",
       "      <td>...</td>\n",
       "    </tr>\n",
       "    <tr>\n",
       "      <th>26811</th>\n",
       "      <td>WI</td>\n",
       "      <td>4</td>\n",
       "      <td>1.0</td>\n",
       "      <td>1.0</td>\n",
       "      <td>0.785</td>\n",
       "      <td>0.750</td>\n",
       "      <td>0.500</td>\n",
       "      <td>0.900</td>\n",
       "      <td>0.133</td>\n",
       "      <td>0.284</td>\n",
       "      <td>...</td>\n",
       "      <td>0.0</td>\n",
       "      <td>WI4</td>\n",
       "      <td>47394</td>\n",
       "      <td>47963</td>\n",
       "      <td>48142</td>\n",
       "      <td>-1.3</td>\n",
       "      <td>0.003718</td>\n",
       "      <td>1</td>\n",
       "      <td>1</td>\n",
       "      <td>1</td>\n",
       "    </tr>\n",
       "    <tr>\n",
       "      <th>26809</th>\n",
       "      <td>WI</td>\n",
       "      <td>3</td>\n",
       "      <td>1.0</td>\n",
       "      <td>1.0</td>\n",
       "      <td>0.785</td>\n",
       "      <td>0.750</td>\n",
       "      <td>0.500</td>\n",
       "      <td>0.900</td>\n",
       "      <td>0.133</td>\n",
       "      <td>0.284</td>\n",
       "      <td>...</td>\n",
       "      <td>0.0</td>\n",
       "      <td>WI3</td>\n",
       "      <td>47394</td>\n",
       "      <td>47963</td>\n",
       "      <td>48142</td>\n",
       "      <td>-1.3</td>\n",
       "      <td>0.003718</td>\n",
       "      <td>1</td>\n",
       "      <td>1</td>\n",
       "      <td>1</td>\n",
       "    </tr>\n",
       "    <tr>\n",
       "      <th>26803</th>\n",
       "      <td>WI</td>\n",
       "      <td>2</td>\n",
       "      <td>1.0</td>\n",
       "      <td>1.0</td>\n",
       "      <td>0.785</td>\n",
       "      <td>0.750</td>\n",
       "      <td>0.500</td>\n",
       "      <td>0.900</td>\n",
       "      <td>0.133</td>\n",
       "      <td>0.284</td>\n",
       "      <td>...</td>\n",
       "      <td>0.0</td>\n",
       "      <td>WI2</td>\n",
       "      <td>47394</td>\n",
       "      <td>47963</td>\n",
       "      <td>48142</td>\n",
       "      <td>-1.3</td>\n",
       "      <td>0.003718</td>\n",
       "      <td>1</td>\n",
       "      <td>1</td>\n",
       "      <td>1</td>\n",
       "    </tr>\n",
       "    <tr>\n",
       "      <th>26800</th>\n",
       "      <td>WI</td>\n",
       "      <td>1</td>\n",
       "      <td>0.0</td>\n",
       "      <td>0.0</td>\n",
       "      <td>0.785</td>\n",
       "      <td>0.750</td>\n",
       "      <td>0.500</td>\n",
       "      <td>0.900</td>\n",
       "      <td>0.133</td>\n",
       "      <td>0.284</td>\n",
       "      <td>...</td>\n",
       "      <td>0.0</td>\n",
       "      <td>WI1</td>\n",
       "      <td>47394</td>\n",
       "      <td>47963</td>\n",
       "      <td>48142</td>\n",
       "      <td>-1.3</td>\n",
       "      <td>0.003718</td>\n",
       "      <td>1</td>\n",
       "      <td>0</td>\n",
       "      <td>1</td>\n",
       "    </tr>\n",
       "    <tr>\n",
       "      <th>26833</th>\n",
       "      <td>WY</td>\n",
       "      <td>0</td>\n",
       "      <td>0.0</td>\n",
       "      <td>0.0</td>\n",
       "      <td>0.333</td>\n",
       "      <td>0.750</td>\n",
       "      <td>0.366</td>\n",
       "      <td>0.714</td>\n",
       "      <td>0.116</td>\n",
       "      <td>0.266</td>\n",
       "      <td>...</td>\n",
       "      <td>0.0</td>\n",
       "      <td>WY0</td>\n",
       "      <td>69453</td>\n",
       "      <td>66690</td>\n",
       "      <td>66144</td>\n",
       "      <td>-0.6</td>\n",
       "      <td>-0.008255</td>\n",
       "      <td>1</td>\n",
       "      <td>0</td>\n",
       "      <td>1</td>\n",
       "    </tr>\n",
       "  </tbody>\n",
       "</table>\n",
       "<p>435 rows × 21 columns</p>\n",
       "</div>"
      ],
      "text/plain": [
       "      state_po  district  incumbency  class  cfb 14  nfl 14  nba 14  cbb 14  \\\n",
       "25498       AL         7         1.0    1.0   0.857   0.375   0.732   0.558   \n",
       "25496       AL         6         0.0    0.0   0.857   0.375   0.732   0.558   \n",
       "25493       AL         5         0.0    0.0   0.857   0.375   0.732   0.558   \n",
       "25489       AL         4         0.0    0.0   0.857   0.375   0.732   0.558   \n",
       "25488       AL         3         0.0    0.0   0.857   0.375   0.732   0.558   \n",
       "...        ...       ...         ...    ...     ...     ...     ...     ...   \n",
       "26811       WI         4         1.0    1.0   0.785   0.750   0.500   0.900   \n",
       "26809       WI         3         1.0    1.0   0.785   0.750   0.500   0.900   \n",
       "26803       WI         2         1.0    1.0   0.785   0.750   0.500   0.900   \n",
       "26800       WI         1         0.0    0.0   0.785   0.750   0.500   0.900   \n",
       "26833       WY         0         0.0    0.0   0.333   0.750   0.366   0.714   \n",
       "\n",
       "       poverty14  bachelors14  ...  pres_class  state_district 2011_GDP  \\\n",
       "25498      0.189        0.235  ...         0.0             AL7    38562   \n",
       "25496      0.189        0.235  ...         0.0             AL6    38562   \n",
       "25493      0.189        0.235  ...         0.0             AL5    38562   \n",
       "25489      0.189        0.235  ...         0.0             AL4    38562   \n",
       "25488      0.189        0.235  ...         0.0             AL3    38562   \n",
       "...          ...          ...  ...         ...             ...      ...   \n",
       "26811      0.133        0.284  ...         0.0             WI4    47394   \n",
       "26809      0.133        0.284  ...         0.0             WI3    47394   \n",
       "26803      0.133        0.284  ...         0.0             WI2    47394   \n",
       "26800      0.133        0.284  ...         0.0             WI1    47394   \n",
       "26833      0.116        0.266  ...         0.0             WY0    69453   \n",
       "\n",
       "       2012_GDP  2013_GDP  2014_oneyr_unemp_delta  GDP_growth_2013  pres  \\\n",
       "25498     38687     38954                    -0.4         0.006854     1   \n",
       "25496     38687     38954                    -0.4         0.006854     1   \n",
       "25493     38687     38954                    -0.4         0.006854     1   \n",
       "25489     38687     38954                    -0.4         0.006854     1   \n",
       "25488     38687     38954                    -0.4         0.006854     1   \n",
       "...         ...       ...                     ...              ...   ...   \n",
       "26811     47963     48142                    -1.3         0.003718     1   \n",
       "26809     47963     48142                    -1.3         0.003718     1   \n",
       "26803     47963     48142                    -1.3         0.003718     1   \n",
       "26800     47963     48142                    -1.3         0.003718     1   \n",
       "26833     66690     66144                    -0.6        -0.008255     1   \n",
       "\n",
       "       same  inc_win  \n",
       "25498     1        1  \n",
       "25496     0        1  \n",
       "25493     0        1  \n",
       "25489     0        1  \n",
       "25488     0        1  \n",
       "...     ...      ...  \n",
       "26811     1        1  \n",
       "26809     1        1  \n",
       "26803     1        1  \n",
       "26800     0        1  \n",
       "26833     0        1  \n",
       "\n",
       "[435 rows x 21 columns]"
      ]
     },
     "execution_count": 16,
     "metadata": {},
     "output_type": "execute_result"
    }
   ],
   "source": [
    "model_frame14"
   ]
  },
  {
   "cell_type": "code",
   "execution_count": 17,
   "metadata": {},
   "outputs": [],
   "source": [
    "incumbent_wins = model_frame18[model_frame18['incumbency'] == model_frame18['class']]\n",
    "incumbent_loss14 = model_frame14[model_frame14['incumbency'] != model_frame14['class']].drop(['state_po','state_district'], axis=1)\n"
   ]
  },
  {
   "cell_type": "code",
   "execution_count": 18,
   "metadata": {},
   "outputs": [
    {
     "ename": "KeyError",
     "evalue": "'poverty'",
     "output_type": "error",
     "traceback": [
      "\u001b[0;31m---------------------------------------------------------------------------\u001b[0m",
      "\u001b[0;31mKeyError\u001b[0m                                  Traceback (most recent call last)",
      "\u001b[0;32m/anaconda3/envs/tfcs109a/lib/python3.6/site-packages/pandas/core/indexes/base.py\u001b[0m in \u001b[0;36mget_loc\u001b[0;34m(self, key, method, tolerance)\u001b[0m\n\u001b[1;32m   2896\u001b[0m             \u001b[0;32mtry\u001b[0m\u001b[0;34m:\u001b[0m\u001b[0;34m\u001b[0m\u001b[0;34m\u001b[0m\u001b[0m\n\u001b[0;32m-> 2897\u001b[0;31m                 \u001b[0;32mreturn\u001b[0m \u001b[0mself\u001b[0m\u001b[0;34m.\u001b[0m\u001b[0m_engine\u001b[0m\u001b[0;34m.\u001b[0m\u001b[0mget_loc\u001b[0m\u001b[0;34m(\u001b[0m\u001b[0mkey\u001b[0m\u001b[0;34m)\u001b[0m\u001b[0;34m\u001b[0m\u001b[0;34m\u001b[0m\u001b[0m\n\u001b[0m\u001b[1;32m   2898\u001b[0m             \u001b[0;32mexcept\u001b[0m \u001b[0mKeyError\u001b[0m\u001b[0;34m:\u001b[0m\u001b[0;34m\u001b[0m\u001b[0;34m\u001b[0m\u001b[0m\n",
      "\u001b[0;32mpandas/_libs/index.pyx\u001b[0m in \u001b[0;36mpandas._libs.index.IndexEngine.get_loc\u001b[0;34m()\u001b[0m\n",
      "\u001b[0;32mpandas/_libs/index.pyx\u001b[0m in \u001b[0;36mpandas._libs.index.IndexEngine.get_loc\u001b[0;34m()\u001b[0m\n",
      "\u001b[0;32mpandas/_libs/hashtable_class_helper.pxi\u001b[0m in \u001b[0;36mpandas._libs.hashtable.PyObjectHashTable.get_item\u001b[0;34m()\u001b[0m\n",
      "\u001b[0;32mpandas/_libs/hashtable_class_helper.pxi\u001b[0m in \u001b[0;36mpandas._libs.hashtable.PyObjectHashTable.get_item\u001b[0;34m()\u001b[0m\n",
      "\u001b[0;31mKeyError\u001b[0m: 'poverty'",
      "\nDuring handling of the above exception, another exception occurred:\n",
      "\u001b[0;31mKeyError\u001b[0m                                  Traceback (most recent call last)",
      "\u001b[0;32m<ipython-input-18-1af385e16290>\u001b[0m in \u001b[0;36m<module>\u001b[0;34m\u001b[0m\n\u001b[1;32m      6\u001b[0m \u001b[0max\u001b[0m\u001b[0;34m[\u001b[0m\u001b[0;36m2\u001b[0m\u001b[0;34m]\u001b[0m\u001b[0;34m.\u001b[0m\u001b[0mboxplot\u001b[0m\u001b[0;34m(\u001b[0m\u001b[0mmodel_frame14\u001b[0m\u001b[0;34m[\u001b[0m\u001b[0;34m'nba 14'\u001b[0m\u001b[0;34m]\u001b[0m\u001b[0;34m)\u001b[0m\u001b[0;34m\u001b[0m\u001b[0;34m\u001b[0m\u001b[0m\n\u001b[1;32m      7\u001b[0m \u001b[0max\u001b[0m\u001b[0;34m[\u001b[0m\u001b[0;36m3\u001b[0m\u001b[0;34m]\u001b[0m\u001b[0;34m.\u001b[0m\u001b[0mboxplot\u001b[0m\u001b[0;34m(\u001b[0m\u001b[0mmodel_frame14\u001b[0m\u001b[0;34m[\u001b[0m\u001b[0;34m'cbb 14'\u001b[0m\u001b[0;34m]\u001b[0m\u001b[0;34m)\u001b[0m\u001b[0;34m\u001b[0m\u001b[0;34m\u001b[0m\u001b[0m\n\u001b[0;32m----> 8\u001b[0;31m \u001b[0max\u001b[0m\u001b[0;34m[\u001b[0m\u001b[0;36m4\u001b[0m\u001b[0;34m]\u001b[0m\u001b[0;34m.\u001b[0m\u001b[0mboxplot\u001b[0m\u001b[0;34m(\u001b[0m\u001b[0mmodel_frame14\u001b[0m\u001b[0;34m[\u001b[0m\u001b[0;34m'poverty'\u001b[0m\u001b[0;34m]\u001b[0m\u001b[0;34m)\u001b[0m\u001b[0;34m\u001b[0m\u001b[0;34m\u001b[0m\u001b[0m\n\u001b[0m\u001b[1;32m      9\u001b[0m \u001b[0max\u001b[0m\u001b[0;34m[\u001b[0m\u001b[0;36m5\u001b[0m\u001b[0;34m]\u001b[0m\u001b[0;34m.\u001b[0m\u001b[0mboxplot\u001b[0m\u001b[0;34m(\u001b[0m\u001b[0mmodel_frame14\u001b[0m\u001b[0;34m[\u001b[0m\u001b[0;34m'bachelors'\u001b[0m\u001b[0;34m]\u001b[0m\u001b[0;34m)\u001b[0m\u001b[0;34m\u001b[0m\u001b[0;34m\u001b[0m\u001b[0m\n\u001b[1;32m     10\u001b[0m \u001b[0max\u001b[0m\u001b[0;34m[\u001b[0m\u001b[0;36m6\u001b[0m\u001b[0;34m]\u001b[0m\u001b[0;34m.\u001b[0m\u001b[0mboxplot\u001b[0m\u001b[0;34m(\u001b[0m\u001b[0mmodel_frame14\u001b[0m\u001b[0;34m[\u001b[0m\u001b[0;34m'hs'\u001b[0m\u001b[0;34m]\u001b[0m\u001b[0;34m)\u001b[0m\u001b[0;34m\u001b[0m\u001b[0;34m\u001b[0m\u001b[0m\n",
      "\u001b[0;32m/anaconda3/envs/tfcs109a/lib/python3.6/site-packages/pandas/core/frame.py\u001b[0m in \u001b[0;36m__getitem__\u001b[0;34m(self, key)\u001b[0m\n\u001b[1;32m   2993\u001b[0m             \u001b[0;32mif\u001b[0m \u001b[0mself\u001b[0m\u001b[0;34m.\u001b[0m\u001b[0mcolumns\u001b[0m\u001b[0;34m.\u001b[0m\u001b[0mnlevels\u001b[0m \u001b[0;34m>\u001b[0m \u001b[0;36m1\u001b[0m\u001b[0;34m:\u001b[0m\u001b[0;34m\u001b[0m\u001b[0;34m\u001b[0m\u001b[0m\n\u001b[1;32m   2994\u001b[0m                 \u001b[0;32mreturn\u001b[0m \u001b[0mself\u001b[0m\u001b[0;34m.\u001b[0m\u001b[0m_getitem_multilevel\u001b[0m\u001b[0;34m(\u001b[0m\u001b[0mkey\u001b[0m\u001b[0;34m)\u001b[0m\u001b[0;34m\u001b[0m\u001b[0;34m\u001b[0m\u001b[0m\n\u001b[0;32m-> 2995\u001b[0;31m             \u001b[0mindexer\u001b[0m \u001b[0;34m=\u001b[0m \u001b[0mself\u001b[0m\u001b[0;34m.\u001b[0m\u001b[0mcolumns\u001b[0m\u001b[0;34m.\u001b[0m\u001b[0mget_loc\u001b[0m\u001b[0;34m(\u001b[0m\u001b[0mkey\u001b[0m\u001b[0;34m)\u001b[0m\u001b[0;34m\u001b[0m\u001b[0;34m\u001b[0m\u001b[0m\n\u001b[0m\u001b[1;32m   2996\u001b[0m             \u001b[0;32mif\u001b[0m \u001b[0mis_integer\u001b[0m\u001b[0;34m(\u001b[0m\u001b[0mindexer\u001b[0m\u001b[0;34m)\u001b[0m\u001b[0;34m:\u001b[0m\u001b[0;34m\u001b[0m\u001b[0;34m\u001b[0m\u001b[0m\n\u001b[1;32m   2997\u001b[0m                 \u001b[0mindexer\u001b[0m \u001b[0;34m=\u001b[0m \u001b[0;34m[\u001b[0m\u001b[0mindexer\u001b[0m\u001b[0;34m]\u001b[0m\u001b[0;34m\u001b[0m\u001b[0;34m\u001b[0m\u001b[0m\n",
      "\u001b[0;32m/anaconda3/envs/tfcs109a/lib/python3.6/site-packages/pandas/core/indexes/base.py\u001b[0m in \u001b[0;36mget_loc\u001b[0;34m(self, key, method, tolerance)\u001b[0m\n\u001b[1;32m   2897\u001b[0m                 \u001b[0;32mreturn\u001b[0m \u001b[0mself\u001b[0m\u001b[0;34m.\u001b[0m\u001b[0m_engine\u001b[0m\u001b[0;34m.\u001b[0m\u001b[0mget_loc\u001b[0m\u001b[0;34m(\u001b[0m\u001b[0mkey\u001b[0m\u001b[0;34m)\u001b[0m\u001b[0;34m\u001b[0m\u001b[0;34m\u001b[0m\u001b[0m\n\u001b[1;32m   2898\u001b[0m             \u001b[0;32mexcept\u001b[0m \u001b[0mKeyError\u001b[0m\u001b[0;34m:\u001b[0m\u001b[0;34m\u001b[0m\u001b[0;34m\u001b[0m\u001b[0m\n\u001b[0;32m-> 2899\u001b[0;31m                 \u001b[0;32mreturn\u001b[0m \u001b[0mself\u001b[0m\u001b[0;34m.\u001b[0m\u001b[0m_engine\u001b[0m\u001b[0;34m.\u001b[0m\u001b[0mget_loc\u001b[0m\u001b[0;34m(\u001b[0m\u001b[0mself\u001b[0m\u001b[0;34m.\u001b[0m\u001b[0m_maybe_cast_indexer\u001b[0m\u001b[0;34m(\u001b[0m\u001b[0mkey\u001b[0m\u001b[0;34m)\u001b[0m\u001b[0;34m)\u001b[0m\u001b[0;34m\u001b[0m\u001b[0;34m\u001b[0m\u001b[0m\n\u001b[0m\u001b[1;32m   2900\u001b[0m         \u001b[0mindexer\u001b[0m \u001b[0;34m=\u001b[0m \u001b[0mself\u001b[0m\u001b[0;34m.\u001b[0m\u001b[0mget_indexer\u001b[0m\u001b[0;34m(\u001b[0m\u001b[0;34m[\u001b[0m\u001b[0mkey\u001b[0m\u001b[0;34m]\u001b[0m\u001b[0;34m,\u001b[0m \u001b[0mmethod\u001b[0m\u001b[0;34m=\u001b[0m\u001b[0mmethod\u001b[0m\u001b[0;34m,\u001b[0m \u001b[0mtolerance\u001b[0m\u001b[0;34m=\u001b[0m\u001b[0mtolerance\u001b[0m\u001b[0;34m)\u001b[0m\u001b[0;34m\u001b[0m\u001b[0;34m\u001b[0m\u001b[0m\n\u001b[1;32m   2901\u001b[0m         \u001b[0;32mif\u001b[0m \u001b[0mindexer\u001b[0m\u001b[0;34m.\u001b[0m\u001b[0mndim\u001b[0m \u001b[0;34m>\u001b[0m \u001b[0;36m1\u001b[0m \u001b[0;32mor\u001b[0m \u001b[0mindexer\u001b[0m\u001b[0;34m.\u001b[0m\u001b[0msize\u001b[0m \u001b[0;34m>\u001b[0m \u001b[0;36m1\u001b[0m\u001b[0;34m:\u001b[0m\u001b[0;34m\u001b[0m\u001b[0;34m\u001b[0m\u001b[0m\n",
      "\u001b[0;32mpandas/_libs/index.pyx\u001b[0m in \u001b[0;36mpandas._libs.index.IndexEngine.get_loc\u001b[0;34m()\u001b[0m\n",
      "\u001b[0;32mpandas/_libs/index.pyx\u001b[0m in \u001b[0;36mpandas._libs.index.IndexEngine.get_loc\u001b[0;34m()\u001b[0m\n",
      "\u001b[0;32mpandas/_libs/hashtable_class_helper.pxi\u001b[0m in \u001b[0;36mpandas._libs.hashtable.PyObjectHashTable.get_item\u001b[0;34m()\u001b[0m\n",
      "\u001b[0;32mpandas/_libs/hashtable_class_helper.pxi\u001b[0m in \u001b[0;36mpandas._libs.hashtable.PyObjectHashTable.get_item\u001b[0;34m()\u001b[0m\n",
      "\u001b[0;31mKeyError\u001b[0m: 'poverty'"
     ]
    },
    {
     "data": {
      "image/png": "[encoded data removed]",
      "text/plain": [
       "<Figure size 1440x360 with 9 Axes>"
      ]
     },
     "metadata": {
      "needs_background": "light"
     },
     "output_type": "display_data"
    }
   ],
   "source": [
    "# boxplot for each feature \n",
    "\n",
    "fig, ax = plt.subplots(1,9, figsize=(20, 5))\n",
    "ax[0].boxplot(model_frame14['cfb 14'])\n",
    "ax[1].boxplot(model_frame14['nfl 14'])\n",
    "ax[2].boxplot(model_frame14['nba 14'])\n",
    "ax[3].boxplot(model_frame14['cbb 14'])\n",
    "ax[4].boxplot(model_frame14['poverty'])\n",
    "ax[5].boxplot(model_frame14['bachelors'])\n",
    "ax[6].boxplot(model_frame14['hs'])\n",
    "ax[7].boxplot(model_frame14['difference'])\n",
    "ax[8].boxplot(model_frame14['GDP_growth_2017'])\n",
    "\n",
    "# stats = ['College Football', 'NFL', 'NBA', 'College Baseball', 'poverty', 'bachelors', 'HS', 'difference', 'GDP Growth 2017']\n",
    "# for i in range(9):\n",
    "#     ax[i].set_title(stats[i])"
   ]
  },
  {
   "cell_type": "code",
   "execution_count": null,
   "metadata": {},
   "outputs": [],
   "source": [
    "# Scatter Matrix \n",
    "\n",
    "to_scatter = ['cfb', 'nfl', 'nba', 'cbb', 'poverty', 'bachelors', 'hs', 'difference', 'GDP_growth_2017']\n",
    "\n",
    "df_to_scatter = model_frame.loc[:,to_scatter]\n",
    "\n",
    "from pandas.plotting import scatter_matrix\n",
    "scatter_matrix(df_to_scatter, alpha=0.8, figsize=(10, 10), diagonal='kde');"
   ]
  },
  {
   "cell_type": "code",
   "execution_count": null,
   "metadata": {},
   "outputs": [],
   "source": [
    "plt.hist(incumbent_wins['2017_GDP'], label='Incumbent won')\n",
    "plt.hist(incumbent_loss['2017_GDP'], label= 'Incumbent lost')\n",
    "plt.xlabel('GDP per capita')\n",
    "plt.ylabel('Number Of Candidates')\n",
    "plt.title('Incument wins and losses distributed by GDP per capit')\n",
    "plt.legend()\n"
   ]
  },
  {
   "cell_type": "code",
   "execution_count": null,
   "metadata": {},
   "outputs": [],
   "source": [
    "plt.hist(model_frame[model_frame['class'] == 0]['poverty'], label = 'Republican')\n",
    "plt.hist(model_frame[model_frame['class'] == 1]['poverty'], alpha = .4, label = 'Democrat')\n",
    "plt.hist(model_frame[model_frame['class'] == 2]['poverty'], alpha = 1, label = 'Other')\n",
    "plt.xlabel('Percentage of State Below Poverty Line')\n",
    "plt.ylabel('Number Of Candidates')\n",
    "plt.title('Poverty Rates split by Party Vote')\n",
    "plt.legend()"
   ]
  },
  {
   "cell_type": "code",
   "execution_count": null,
   "metadata": {},
   "outputs": [],
   "source": [
    "plt.hist(model_frame[model_frame['class'] == 0]['bachelors'], label = 'Republican')\n",
    "plt.hist(model_frame[model_frame['class'] == 1]['bachelors'], alpha = .4, label = 'Democrat')\n",
    "plt.hist(model_frame[model_frame['class'] == 2]['bachelors'], alpha = 1, label = 'Other')\n",
    "plt.xlabel('Percentage of residents with Bachelors Degree')\n",
    "plt.ylabel('Number Of Candidates')\n",
    "plt.title('Bachelors Degree Rates split by Party Vote')\n",
    "plt.legend()"
   ]
  },
  {
   "cell_type": "code",
   "execution_count": null,
   "metadata": {},
   "outputs": [],
   "source": [
    "plt.hist(model_frame[model_frame['class'] == 0]['hs'], label = 'Republican')\n",
    "plt.hist(model_frame[model_frame['class'] == 1]['hs'], alpha = .4, label = 'Democrat')\n",
    "plt.hist(model_frame[model_frame['class'] == 2]['hs'], alpha = 1, label = 'Other')\n",
    "plt.xlabel('Percentage of residents with Highschool Degree')\n",
    "plt.ylabel('Number Of Candidates')\n",
    "plt.title('Highschool Degree Rates split by Party Vote')\n",
    "plt.legend()"
   ]
  },
  {
   "cell_type": "code",
   "execution_count": 66,
   "metadata": {},
   "outputs": [
    {
     "ename": "NameError",
     "evalue": "name 'model_frame' is not defined",
     "output_type": "error",
     "traceback": [
      "\u001b[0;31m---------------------------------------------------------------------------\u001b[0m",
      "\u001b[0;31mNameError\u001b[0m                                 Traceback (most recent call last)",
      "\u001b[0;32m<ipython-input-66-2195cb2c8d74>\u001b[0m in \u001b[0;36m<module>\u001b[0;34m\u001b[0m\n\u001b[0;32m----> 1\u001b[0;31m \u001b[0mmodel_frame_to_try\u001b[0m \u001b[0;34m=\u001b[0m \u001b[0mmodel_frame\u001b[0m\u001b[0;34m.\u001b[0m\u001b[0mdrop\u001b[0m\u001b[0;34m(\u001b[0m\u001b[0;34m[\u001b[0m\u001b[0;34m'state_po'\u001b[0m\u001b[0;34m,\u001b[0m\u001b[0;34m'state_district'\u001b[0m\u001b[0;34m]\u001b[0m\u001b[0;34m,\u001b[0m \u001b[0maxis\u001b[0m\u001b[0;34m=\u001b[0m\u001b[0;36m1\u001b[0m\u001b[0;34m)\u001b[0m\u001b[0;34m\u001b[0m\u001b[0;34m\u001b[0m\u001b[0m\n\u001b[0m",
      "\u001b[0;31mNameError\u001b[0m: name 'model_frame' is not defined"
     ]
    }
   ],
   "source": [
    "model_frame_to_try = model_frame.drop(['state_po','state_district'], axis=1)"
   ]
  },
  {
   "cell_type": "code",
   "execution_count": null,
   "metadata": {},
   "outputs": [],
   "source": [
    "X_train, X_test, y_train, y_test = train_test_split(model_frame_to_try.drop(['class'], axis=1), model_frame_to_try['class'], test_size=0.2, random_state=42)"
   ]
  },
  {
   "cell_type": "code",
   "execution_count": null,
   "metadata": {},
   "outputs": [],
   "source": [
    "================="
   ]
  },
  {
   "cell_type": "code",
   "execution_count": null,
   "metadata": {},
   "outputs": [],
   "source": [
    "len(X_train.columns)"
   ]
  },
  {
   "cell_type": "code",
   "execution_count": null,
   "metadata": {},
   "outputs": [],
   "source": [
    "X_train_full = X_train.copy()\n",
    "X_test_full = X_test.copy()\n",
    "y_train_full = y_train.copy()\n",
    "y_test_full = y_test.copy()\n",
    "print(len(X_train_full.columns))"
   ]
  },
  {
   "cell_type": "code",
   "execution_count": null,
   "metadata": {},
   "outputs": [],
   "source": [
    "random_forest_full = RandomForestClassifier(max_features = int(np.sqrt(X_train_full.shape[1])), max_depth=5, n_estimators = 55)\n",
    "random_forest_full.fit(X_train_full,y_train_full)\n",
    "\n",
    "random_forest_train_predictions_full = random_forest_full.predict(X_train_full)\n",
    "random_forest_test_predictions_full = random_forest_full.predict(X_test_full)\n",
    "\n",
    "random_forest_train_score_full = accuracy_score(y_train, random_forest_train_predictions_full)\n",
    "random_forest_test_score_full = accuracy_score(y_test, random_forest_test_predictions_full)\n",
    "\n",
    "print(\"Random Forest Train Score: \" + str(random_forest_train_score_full))\n",
    "print(\"Random Forest Test Score: \" + str(random_forest_test_score_full))"
   ]
  },
  {
   "cell_type": "code",
   "execution_count": null,
   "metadata": {},
   "outputs": [],
   "source": [
    "X_train_full.head()"
   ]
  },
  {
   "cell_type": "code",
   "execution_count": null,
   "metadata": {},
   "outputs": [],
   "source": [
    "=================="
   ]
  },
  {
   "cell_type": "code",
   "execution_count": null,
   "metadata": {},
   "outputs": [],
   "source": [
    "X_train = X_train[['incumbency','pres_class','poverty','bachelors','hs','2017_GDP','cfb','nfl','nba','cbb']] # with most standard predictors\n",
    "X_test = X_test[['incumbency','pres_class', 'poverty','bachelors','hs','2017_GDP','cfb','nfl','nba','cbb']]"
   ]
  },
  {
   "cell_type": "code",
   "execution_count": null,
   "metadata": {},
   "outputs": [],
   "source": [
    "X_train.columns"
   ]
  },
  {
   "cell_type": "code",
   "execution_count": null,
   "metadata": {},
   "outputs": [],
   "source": [
    "random_forest_model = RandomForestClassifier(max_features = int(np.sqrt(X_train.shape[1])), max_depth=5, n_estimators = 55)\n",
    "random_forest_model.fit(X_train, y_train)\n",
    "\n",
    "random_forest_train_predictions = random_forest_model.predict(X_train)\n",
    "random_forest_test_predictions = random_forest_model.predict(X_test)\n",
    "\n",
    "random_forest_train_score = accuracy_score(y_train, random_forest_train_predictions)\n",
    "random_forest_test_score = accuracy_score(y_test, random_forest_test_predictions)\n",
    "\n",
    "print(\"Random Forest Train Score: \" + str(random_forest_train_score))\n",
    "print(\"Random Forest Test Score: \" + str(random_forest_test_score))"
   ]
  },
  {
   "cell_type": "code",
   "execution_count": null,
   "metadata": {},
   "outputs": [],
   "source": []
  },
  {
   "cell_type": "code",
   "execution_count": null,
   "metadata": {},
   "outputs": [],
   "source": [
    "X_train = X_train[['pres_class','poverty','bachelors','hs','2017_GDP']] # without district incumbency information\n",
    "X_test = X_test[['pres_class', 'poverty','bachelors','hs','2017_GDP']]"
   ]
  },
  {
   "cell_type": "code",
   "execution_count": null,
   "metadata": {},
   "outputs": [],
   "source": [
    "random_forest_model = RandomForestClassifier(max_features = int(np.sqrt(X_train.shape[1])), max_depth=5, n_estimators = 55)\n",
    "random_forest_model.fit(X_train, y_train)\n",
    "\n",
    "random_forest_train_predictions = random_forest_model.predict(X_train)\n",
    "random_forest_test_predictions = random_forest_model.predict(X_test)\n",
    "\n",
    "random_forest_train_score = accuracy_score(y_train, random_forest_train_predictions)\n",
    "random_forest_test_score = accuracy_score(y_test, random_forest_test_predictions)\n",
    "\n",
    "print(\"Random Forest Train Score: \" + str(random_forest_train_score))\n",
    "print(\"Random Forest Test Score: \" + str(random_forest_test_score))"
   ]
  },
  {
   "cell_type": "code",
   "execution_count": null,
   "metadata": {},
   "outputs": [],
   "source": [
    "X_train = X_train[['poverty','bachelors','hs','2017_GDP']] # without 2016 presidential election information\n",
    "X_test = X_test[['poverty','bachelors','hs','2017_GDP']]"
   ]
  },
  {
   "cell_type": "code",
   "execution_count": null,
   "metadata": {},
   "outputs": [],
   "source": [
    "random_forest_model = RandomForestClassifier(max_features = int(np.sqrt(X_train.shape[1])), max_depth=5, n_estimators = 55)\n",
    "random_forest_model.fit(X_train, y_train)\n",
    "\n",
    "random_forest_train_predictions = random_forest_model.predict(X_train)\n",
    "random_forest_test_predictions = random_forest_model.predict(X_test)\n",
    "\n",
    "random_forest_train_score = accuracy_score(y_train, random_forest_train_predictions)\n",
    "random_forest_test_score = accuracy_score(y_test, random_forest_test_predictions)\n",
    "\n",
    "print(\"Random Forest Train Score: \" + str(random_forest_train_score))\n",
    "print(\"Random Forest Test Score: \" + str(random_forest_test_score))"
   ]
  },
  {
   "cell_type": "code",
   "execution_count": 54,
   "metadata": {},
   "outputs": [],
   "source": [
    "# model_frame14_y = model_frame14['class']\n",
    "# m14x = model_frame14.drop(['class', 'state_po', 'state_district', 'district'], axis=1)\n",
    "# model_frame14_x = StandardScaler().fit_transform(model_frame14.drop(['class', 'district','state_po', 'state_district'], axis=1))\n",
    "# model_frame18_y = model_frame18['class']\n",
    "# model_frame18_x = StandardScaler().fit_transform(model_frame18.drop(['class', 'district','state_po', 'state_district'], axis=1))\n",
    "# #model_frame18_x = MinMaxScaler().fit_transform(model_frame18.drop(['class', 'state_po', 'state_district'], axis=1))\n",
    "# X_train, X_test, y_train, y_test = train_test_split(model_frame14_x, model_frame14_y, test_size=0.2, random_state=42)\n",
    "\n",
    "# #X_train = model_frame14_x.drop('incumbency', axis=1)\n",
    "# #X_test = X_test.drop('incumbency', axis=1)\n",
    "# #y_train = model_frame14_y\n",
    "\n",
    "model_frame14_y = model_frame14['inc_win']\n",
    "m14x = model_frame14.drop(['inc_win','incumbency','pres','pres_class','class', 'state_po', 'state_district', 'district'], axis=1)\n",
    "model_frame14_x = StandardScaler().fit_transform(model_frame14.drop(['inc_win','incumbency','pres','class', 'state_po', 'state_district', 'district'], axis=1))\n",
    "model_frame18_y = model_frame18['inc_win']\n",
    "model_frame18_x = StandardScaler().fit_transform(model_frame18.drop(['inc_win','incumbency','pres','class', 'state_po', 'state_district', 'district'], axis=1))\n",
    "m18x = model_frame18.drop(['inc_win','incumbency','pres','pres_class','class', 'state_po', 'state_district', 'district'], axis=1)\n",
    "\n",
    "m14x_l = model_frame14[model_frame14['inc_win'] == 0]\n",
    "m14x_l_x = m14x_l.drop(['inc_win','same','incumbency','pres','pres_class','class', 'state_po', 'state_district', 'district'], axis=1)\n",
    "m14x_l_y = m14x_l['inc_win']\n",
    "\n",
    "model_frame14.to_csv('m14.csv')\n",
    "model_frame18.to_csv('m18.csv')"
   ]
  },
  {
   "cell_type": "code",
   "execution_count": 26,
   "metadata": {},
   "outputs": [
    {
     "name": "stdout",
     "output_type": "stream",
     "text": [
      "Random Forest Train Score: 0.05517241379310345\n",
      "Random Forest Test Score: 0.1310344827586207\n"
     ]
    }
   ],
   "source": [
    "random_forest_model = RandomForestClassifier(max_features = 10, max_depth=10, n_estimators = 100)\n",
    "random_forest_model.fit(m14x_l_x, m14x_l_y)\n",
    "\n",
    "random_forest_train_predictions = random_forest_model.predict(m14x)\n",
    "random_forest_test_predictions = random_forest_model.predict(m18x)\n",
    "\n",
    "random_forest_train_score = accuracy_score(model_frame14_y, random_forest_train_predictions)\n",
    "random_forest_test_score = accuracy_score(model_frame18_y, random_forest_test_predictions)\n",
    "\n",
    "print(\"Random Forest Train Score: \" + str(random_forest_train_score))\n",
    "print(\"Random Forest Test Score: \" + str(random_forest_test_score))"
   ]
  },
  {
   "cell_type": "code",
   "execution_count": 27,
   "metadata": {},
   "outputs": [
    {
     "data": {
      "text/plain": [
       "array([[ 57,   0],\n",
       "       [378,   0]])"
      ]
     },
     "execution_count": 27,
     "metadata": {},
     "output_type": "execute_result"
    }
   ],
   "source": [
    "confusion_matrix(model_frame18_y, random_forest_train_predictions)"
   ]
  },
  {
   "cell_type": "code",
   "execution_count": null,
   "metadata": {},
   "outputs": [],
   "source": [
    "random_forest_train_predictions = random_forest_model.predict(m18x)\n",
    "\n",
    "\n",
    "random_forest_train_score = accuracy_score(model_frame18_y, random_forest_train_predictions)\n",
    "\n",
    "print(np.unique(random_forest_train_predictions, return_counts=True))\n",
    "\n",
    "print(\"Random Forest Train Score: \" + str(random_forest_train_score))\n",
    "\n"
   ]
  },
  {
   "cell_type": "code",
   "execution_count": 34,
   "metadata": {},
   "outputs": [
    {
     "data": {
      "text/plain": [
       "0.8689655172413793"
      ]
     },
     "execution_count": 34,
     "metadata": {},
     "output_type": "execute_result"
    }
   ],
   "source": [
    "ols = sm.OLS(model_frame14_y, m14x).fit()\n",
    "\n",
    "y_pred = ols.predict(m18x)\n",
    "\n",
    "accuracy_score(model_frame18_y, y_pred.round())\n",
    "\n"
   ]
  },
  {
   "cell_type": "code",
   "execution_count": null,
   "metadata": {},
   "outputs": [],
   "source": [
    "multi_logit_lasso = LogisticRegressionCV(cv=5,solver='liblinear',penalty='l1', max_iter = 10000)\n",
    "\n",
    "multi_logit_lasso.fit(X_train, y_train)\n",
    "\n",
    "y_pred = multi_logit_lasso.predict(model_frame18_x)\n",
    "accuracy_score(model_frame18_y, y_pred.round())"
   ]
  },
  {
   "cell_type": "code",
   "execution_count": null,
   "metadata": {},
   "outputs": [],
   "source": [
    "knn_model = KNeighborsClassifier(n_neighbors=160).fit(model_frame14_x, model_frame14_y)\n",
    "\n",
    "y_pred = knn_model.predict(model_frame18_x)\n",
    "accuracy_score(model_frame18_y, y_pred.round())"
   ]
  },
  {
   "cell_type": "code",
   "execution_count": null,
   "metadata": {},
   "outputs": [],
   "source": [
    "model_nn = tf.keras.models.Sequential([\n",
    "\n",
    "    tf.keras.layers.Dense(5, activation='relu',input_shape=(16,)),# kernel_regularizer= tf.keras.regularizers.l2(l=0.05)),\n",
    "#     #tf.keras.layers.Dropout(.2),\n",
    "#     tf.keras.layers.Dense(100, activation='relu'),# kernel_regularizer= tf.keras.regularizers.l2(l=0.01)),\n",
    "#     #tf.keras.layers.Dropout(.2),\n",
    "#     tf.keras.layers.Dense(100, activation='relu'),# kernel_regularizer= tf.keras.regularizers.l2(l=0.01)),\n",
    "#     #tf.keras.layers.Dropout(.2),\n",
    "#     tf.keras.layers.Dense(100, activation='relu'),#, kernel_regularizer= tf.keras.regularizers.l2(l=0.01)),\n",
    "#     tf.keras.layers.Dropout(.2),\n",
    "    tf.keras.layers.Dense(1, activation='relu')\n",
    "])\n",
    "loss_fn = tf.keras.losses.MeanAbsoluteError()\n",
    "optimizer = tf.keras.optimizers.Adam()\n",
    "\n",
    "model_nn.compile(optimizer=optimizer,\n",
    "              loss=loss_fn, metrics=['mae', 'acc'])\n",
    "\n",
    "nn = model_nn.fit(X_train, y_train, validation_split=.1, epochs=100, verbose=2, batch_size=16)"
   ]
  },
  {
   "cell_type": "code",
   "execution_count": null,
   "metadata": {},
   "outputs": [],
   "source": [
    "preds = model_nn.predict(model_frame18_x)"
   ]
  },
  {
   "cell_type": "code",
   "execution_count": null,
   "metadata": {},
   "outputs": [],
   "source": [
    "# ABC = AdaBoostClassifier(base_estimator = DecisionTreeClassifier(max_depth=8), learning_rate=.1, n_estimators = 5)\n",
    "\n",
    "# ABC.fit(X_train, y_train)\n",
    "\n",
    "# train_scores = list(ABC.staged_score(X_train.drop('incumbency', axis=1), y_train))\n",
    "# test_scores = list(ABC.staged_score(model_frame18_x.drop('incumbency', axis=1), model_frame18_y))\n",
    "\n",
    "ABC_loss = AdaBoostClassifier(base_estimator = DecisionTreeClassifier(max_depth=8), learning_rate=.1, n_estimators = 5)\n",
    "\n",
    "ABC_loss.fit(incumbent_loss14.drop(['class','incumbency'], axis=1), incumbent_loss14['class'].values)\n",
    "\n",
    "# ABC = AdaBoostClassifier(base_estimator = DecisionTreeClassifier(max_depth=8), learning_rate=.1, n_estimators = 5)\n",
    "\n",
    "# ABC.fit(model_frame14_x, model_frame14_y)\n"
   ]
  },
  {
   "cell_type": "code",
   "execution_count": null,
   "metadata": {},
   "outputs": [],
   "source": [
    "estimators = np.linspace(1,5,5)\n",
    "\n",
    "plt.plot(estimators, train_scores, label = 'Train Scores')\n",
    "plt.plot(estimators, test_scores, label = 'Test Scores')\n",
    "plt.legend()"
   ]
  },
  {
   "cell_type": "code",
   "execution_count": null,
   "metadata": {},
   "outputs": [],
   "source": [
    "preds14 = ABC_loss.predict(model_frame14_x.drop('incumbency', axis=1))\n",
    "preds18 = ABC_loss.predict(model_frame18_x.drop('incumbency', axis=1))"
   ]
  },
  {
   "cell_type": "code",
   "execution_count": null,
   "metadata": {},
   "outputs": [],
   "source": [
    "new14 = pd.DataFrame()\n",
    "new14['preds'] = preds14\n",
    "new14['inc'] = model_frame14_x['incumbency'].values\n",
    "\n",
    "new18 = pd.DataFrame()\n",
    "new18['preds'] = preds18\n",
    "new18['inc'] = model_frame18_x['incumbency'].values"
   ]
  },
  {
   "cell_type": "code",
   "execution_count": null,
   "metadata": {},
   "outputs": [],
   "source": [
    "ols = sm.OLS(model_frame14_y.values,new14).fit()\n",
    "\n",
    "y_pred = ols.predict(new18)\n",
    "accuracy_score(model_frame18_y, y_pred.round())\n",
    "\n",
    "ols.summary()"
   ]
  },
  {
   "cell_type": "code",
   "execution_count": null,
   "metadata": {},
   "outputs": [],
   "source": [
    "# multi_logit = LogisticRegressionCV(cv=3,solver='liblinear', max_iter = 10000)\n",
    "\n",
    "# multi_logit.fit(incumbent_loss14.drop(['class','incumbency'], axis=1), incumbent_loss14['class'].values)\n",
    "\n",
    "# y_pred = multi_logit.predict(model_frame18_x.drop('incumbency', axis=1))\n",
    "# accuracy_score(model_frame18_y, y_pred.round())\n",
    "\n",
    "multi_logit = LogisticRegressionCV(cv=3,solver='liblinear',penalty = 'l2', max_iter = 10000)\n",
    "\n",
    "multi_logit.fit(new14, model_frame14_y.values)\n",
    "\n",
    "y_pred = multi_logit.predict(new18)\n",
    "accuracy_score(model_frame18_y, y_pred.round())\n",
    "multi_logit.predict_proba(new18)\n"
   ]
  },
  {
   "cell_type": "code",
   "execution_count": null,
   "metadata": {},
   "outputs": [],
   "source": [
    "ABC = AdaBoostClassifier(base_estimator = DecisionTreeClassifier(max_depth=5), learning_rate=.5, n_estimators = 5)\n",
    "\n",
    "ABC.fit(new14, model_frame14_y)\n",
    "\n",
    "train_scores = list(ABC.staged_score(new14, model_frame14_y))\n",
    "test_scores = list(ABC.staged_score(new18, model_frame18_y))"
   ]
  },
  {
   "cell_type": "code",
   "execution_count": null,
   "metadata": {},
   "outputs": [],
   "source": [
    "estimators = np.linspace(1,5,5)\n",
    "\n",
    "plt.plot(estimators, train_scores, label = 'Train Scores')\n",
    "plt.plot(estimators, test_scores, label = 'Test Scores')\n",
    "plt.legend()"
   ]
  },
  {
   "cell_type": "code",
   "execution_count": null,
   "metadata": {},
   "outputs": [],
   "source": [
    "incumbent_loss14"
   ]
  },
  {
   "cell_type": "code",
   "execution_count": 65,
   "metadata": {},
   "outputs": [
    {
     "name": "stdout",
     "output_type": "stream",
     "text": [
      "Random Forest Train Score: 0.9448275862068966\n",
      "Random Forest Test Score: 0.8689655172413793\n"
     ]
    }
   ],
   "source": [
    "random_forest_model_t = RandomForestClassifier(max_features = 4, max_depth=1, n_estimators = 20)\n",
    "random_forest_model_t.fit(m14x, model_frame14_y)\n",
    "\n",
    "ft = random_forest_model_t.predict(m14x)\n",
    "ft = random_forest_model_t.predict(m18x)\n",
    "\n",
    "ts = accuracy_score(model_frame14_y, ft)\n",
    "tes = accuracy_score(model_frame18_y, ft)\n",
    "\n",
    "print(\"Random Forest Train Score: \" + str(ts))\n",
    "print(\"Random Forest Test Score: \" + str(tes))"
   ]
  },
  {
   "cell_type": "code",
   "execution_count": null,
   "metadata": {},
   "outputs": [],
   "source": []
  }
 ],
 "metadata": {
  "kernelspec": {
   "display_name": "Python 3",
   "language": "python",
   "name": "python3"
  },
  "language_info": {
   "codemirror_mode": {
    "name": "ipython",
    "version": 3
   },
   "file_extension": ".py",
   "mimetype": "text/x-python",
   "name": "python",
   "nbconvert_exporter": "python",
   "pygments_lexer": "ipython3",
   "version": "3.6.9"
  }
 },
 "nbformat": 4,
 "nbformat_minor": 2
}
